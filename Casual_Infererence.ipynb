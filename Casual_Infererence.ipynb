{
  "cells": [
    {
      "cell_type": "markdown",
      "source": [
        "# Project – \"Hot Hand\"\n",
        "Ariel Abramowitz 205552599<br>\n",
        "Gil Weissman 322593377\n"
      ],
      "metadata": {
        "id": "p0z3yoo7aHMM"
      }
    },
    {
      "cell_type": "markdown",
      "source": [
        "## Data"
      ],
      "metadata": {
        "id": "KB5ThB_9aU8W"
      }
    },
    {
      "cell_type": "code",
      "execution_count": 1,
      "metadata": {
        "id": "12qZ-yrI6TO3"
      },
      "outputs": [],
      "source": [
        "import pandas as pd\n",
        "from sklearn.linear_model import LogisticRegression, LinearRegression\n",
        "from sklearn.tree import DecisionTreeClassifier\n",
        "from sklearn.linear_model import LogisticRegression\n",
        "from sklearn.ensemble import GradientBoostingClassifier\n",
        "from sklearn.ensemble import RandomForestClassifier\n",
        "from sklearn.naive_bayes import GaussianNB\n",
        "import matplotlib.pyplot as plt\n",
        "import numpy as np\n",
        "import seaborn as sns\n",
        "from sklearn.model_selection import KFold\n",
        "from sklearn.svm import SVR, SVC"
      ]
    },
    {
      "cell_type": "code",
      "execution_count": 2,
      "metadata": {
        "colab": {
          "base_uri": "https://localhost:8080/",
          "height": 612
        },
        "id": "b5CZWeZG7bSV",
        "outputId": "cb66374b-fc02-46ae-c773-fb0f60af3b77"
      },
      "outputs": [
        {
          "output_type": "execute_result",
          "data": {
            "text/plain": [
              "                      MATCHUP  LOCATION  SHOT_NUMBER  PERIOD  GAME_CLOCK  \\\n",
              "0    MAR 04, 2015 - CHA @ BKN         0            1       1          69   \n",
              "1    MAR 04, 2015 - CHA @ BKN         0            2       1          14   \n",
              "2    MAR 04, 2015 - CHA @ BKN         0            3       1           0   \n",
              "3  DEC 13, 2014 - CHA vs. BKN         1            1       1           5   \n",
              "4  DEC 13, 2014 - CHA vs. BKN         1            5       4         478   \n",
              "\n",
              "   SHOT_CLOCK  DRIBBLES  TOUCH_TIME  SHOT_DIST  PTS_TYPE  ...    player_name  \\\n",
              "0        10.8         2         1.9        7.7         2  ...  brian roberts   \n",
              "1         3.4         0         0.8       28.2         3  ...  brian roberts   \n",
              "2         0.0         3         2.7       10.1         2  ...  brian roberts   \n",
              "3         1.9         0         2.0       26.0         3  ...  brian roberts   \n",
              "4        16.9         9         6.8       23.8         3  ...  brian roberts   \n",
              "\n",
              "   player_weight  player_height  defender_weight defender_height  prev_3P%  \\\n",
              "0      78.471416         185.42        99.790240          198.12      0.36   \n",
              "1      78.471416         185.42       102.511792          203.20      0.36   \n",
              "2      78.471416         185.42       102.511792          203.20      0.36   \n",
              "3      78.471416         185.42       102.511792          203.20      0.36   \n",
              "4      78.471416         185.42       102.511792          203.20      0.36   \n",
              "\n",
              "   prev_FT%  prev_FG%   GAME_DATE  back2back  \n",
              "0      0.94      0.42  2015-03-04        1.0  \n",
              "1      0.94      0.42  2015-03-04        1.0  \n",
              "2      0.94      0.42  2015-03-04        1.0  \n",
              "3      0.94      0.42  2014-12-13        1.0  \n",
              "4      0.94      0.42  2014-12-13        1.0  \n",
              "\n",
              "[5 rows x 24 columns]"
            ],
            "text/html": [
              "\n",
              "  <div id=\"df-ef846159-c8c5-441a-b3fa-9829109ebb13\">\n",
              "    <div class=\"colab-df-container\">\n",
              "      <div>\n",
              "<style scoped>\n",
              "    .dataframe tbody tr th:only-of-type {\n",
              "        vertical-align: middle;\n",
              "    }\n",
              "\n",
              "    .dataframe tbody tr th {\n",
              "        vertical-align: top;\n",
              "    }\n",
              "\n",
              "    .dataframe thead th {\n",
              "        text-align: right;\n",
              "    }\n",
              "</style>\n",
              "<table border=\"1\" class=\"dataframe\">\n",
              "  <thead>\n",
              "    <tr style=\"text-align: right;\">\n",
              "      <th></th>\n",
              "      <th>MATCHUP</th>\n",
              "      <th>LOCATION</th>\n",
              "      <th>SHOT_NUMBER</th>\n",
              "      <th>PERIOD</th>\n",
              "      <th>GAME_CLOCK</th>\n",
              "      <th>SHOT_CLOCK</th>\n",
              "      <th>DRIBBLES</th>\n",
              "      <th>TOUCH_TIME</th>\n",
              "      <th>SHOT_DIST</th>\n",
              "      <th>PTS_TYPE</th>\n",
              "      <th>...</th>\n",
              "      <th>player_name</th>\n",
              "      <th>player_weight</th>\n",
              "      <th>player_height</th>\n",
              "      <th>defender_weight</th>\n",
              "      <th>defender_height</th>\n",
              "      <th>prev_3P%</th>\n",
              "      <th>prev_FT%</th>\n",
              "      <th>prev_FG%</th>\n",
              "      <th>GAME_DATE</th>\n",
              "      <th>back2back</th>\n",
              "    </tr>\n",
              "  </thead>\n",
              "  <tbody>\n",
              "    <tr>\n",
              "      <th>0</th>\n",
              "      <td>MAR 04, 2015 - CHA @ BKN</td>\n",
              "      <td>0</td>\n",
              "      <td>1</td>\n",
              "      <td>1</td>\n",
              "      <td>69</td>\n",
              "      <td>10.8</td>\n",
              "      <td>2</td>\n",
              "      <td>1.9</td>\n",
              "      <td>7.7</td>\n",
              "      <td>2</td>\n",
              "      <td>...</td>\n",
              "      <td>brian roberts</td>\n",
              "      <td>78.471416</td>\n",
              "      <td>185.42</td>\n",
              "      <td>99.790240</td>\n",
              "      <td>198.12</td>\n",
              "      <td>0.36</td>\n",
              "      <td>0.94</td>\n",
              "      <td>0.42</td>\n",
              "      <td>2015-03-04</td>\n",
              "      <td>1.0</td>\n",
              "    </tr>\n",
              "    <tr>\n",
              "      <th>1</th>\n",
              "      <td>MAR 04, 2015 - CHA @ BKN</td>\n",
              "      <td>0</td>\n",
              "      <td>2</td>\n",
              "      <td>1</td>\n",
              "      <td>14</td>\n",
              "      <td>3.4</td>\n",
              "      <td>0</td>\n",
              "      <td>0.8</td>\n",
              "      <td>28.2</td>\n",
              "      <td>3</td>\n",
              "      <td>...</td>\n",
              "      <td>brian roberts</td>\n",
              "      <td>78.471416</td>\n",
              "      <td>185.42</td>\n",
              "      <td>102.511792</td>\n",
              "      <td>203.20</td>\n",
              "      <td>0.36</td>\n",
              "      <td>0.94</td>\n",
              "      <td>0.42</td>\n",
              "      <td>2015-03-04</td>\n",
              "      <td>1.0</td>\n",
              "    </tr>\n",
              "    <tr>\n",
              "      <th>2</th>\n",
              "      <td>MAR 04, 2015 - CHA @ BKN</td>\n",
              "      <td>0</td>\n",
              "      <td>3</td>\n",
              "      <td>1</td>\n",
              "      <td>0</td>\n",
              "      <td>0.0</td>\n",
              "      <td>3</td>\n",
              "      <td>2.7</td>\n",
              "      <td>10.1</td>\n",
              "      <td>2</td>\n",
              "      <td>...</td>\n",
              "      <td>brian roberts</td>\n",
              "      <td>78.471416</td>\n",
              "      <td>185.42</td>\n",
              "      <td>102.511792</td>\n",
              "      <td>203.20</td>\n",
              "      <td>0.36</td>\n",
              "      <td>0.94</td>\n",
              "      <td>0.42</td>\n",
              "      <td>2015-03-04</td>\n",
              "      <td>1.0</td>\n",
              "    </tr>\n",
              "    <tr>\n",
              "      <th>3</th>\n",
              "      <td>DEC 13, 2014 - CHA vs. BKN</td>\n",
              "      <td>1</td>\n",
              "      <td>1</td>\n",
              "      <td>1</td>\n",
              "      <td>5</td>\n",
              "      <td>1.9</td>\n",
              "      <td>0</td>\n",
              "      <td>2.0</td>\n",
              "      <td>26.0</td>\n",
              "      <td>3</td>\n",
              "      <td>...</td>\n",
              "      <td>brian roberts</td>\n",
              "      <td>78.471416</td>\n",
              "      <td>185.42</td>\n",
              "      <td>102.511792</td>\n",
              "      <td>203.20</td>\n",
              "      <td>0.36</td>\n",
              "      <td>0.94</td>\n",
              "      <td>0.42</td>\n",
              "      <td>2014-12-13</td>\n",
              "      <td>1.0</td>\n",
              "    </tr>\n",
              "    <tr>\n",
              "      <th>4</th>\n",
              "      <td>DEC 13, 2014 - CHA vs. BKN</td>\n",
              "      <td>1</td>\n",
              "      <td>5</td>\n",
              "      <td>4</td>\n",
              "      <td>478</td>\n",
              "      <td>16.9</td>\n",
              "      <td>9</td>\n",
              "      <td>6.8</td>\n",
              "      <td>23.8</td>\n",
              "      <td>3</td>\n",
              "      <td>...</td>\n",
              "      <td>brian roberts</td>\n",
              "      <td>78.471416</td>\n",
              "      <td>185.42</td>\n",
              "      <td>102.511792</td>\n",
              "      <td>203.20</td>\n",
              "      <td>0.36</td>\n",
              "      <td>0.94</td>\n",
              "      <td>0.42</td>\n",
              "      <td>2014-12-13</td>\n",
              "      <td>1.0</td>\n",
              "    </tr>\n",
              "  </tbody>\n",
              "</table>\n",
              "<p>5 rows × 24 columns</p>\n",
              "</div>\n",
              "      <button class=\"colab-df-convert\" onclick=\"convertToInteractive('df-ef846159-c8c5-441a-b3fa-9829109ebb13')\"\n",
              "              title=\"Convert this dataframe to an interactive table.\"\n",
              "              style=\"display:none;\">\n",
              "        \n",
              "  <svg xmlns=\"http://www.w3.org/2000/svg\" height=\"24px\"viewBox=\"0 0 24 24\"\n",
              "       width=\"24px\">\n",
              "    <path d=\"M0 0h24v24H0V0z\" fill=\"none\"/>\n",
              "    <path d=\"M18.56 5.44l.94 2.06.94-2.06 2.06-.94-2.06-.94-.94-2.06-.94 2.06-2.06.94zm-11 1L8.5 8.5l.94-2.06 2.06-.94-2.06-.94L8.5 2.5l-.94 2.06-2.06.94zm10 10l.94 2.06.94-2.06 2.06-.94-2.06-.94-.94-2.06-.94 2.06-2.06.94z\"/><path d=\"M17.41 7.96l-1.37-1.37c-.4-.4-.92-.59-1.43-.59-.52 0-1.04.2-1.43.59L10.3 9.45l-7.72 7.72c-.78.78-.78 2.05 0 2.83L4 21.41c.39.39.9.59 1.41.59.51 0 1.02-.2 1.41-.59l7.78-7.78 2.81-2.81c.8-.78.8-2.07 0-2.86zM5.41 20L4 18.59l7.72-7.72 1.47 1.35L5.41 20z\"/>\n",
              "  </svg>\n",
              "      </button>\n",
              "      \n",
              "  <style>\n",
              "    .colab-df-container {\n",
              "      display:flex;\n",
              "      flex-wrap:wrap;\n",
              "      gap: 12px;\n",
              "    }\n",
              "\n",
              "    .colab-df-convert {\n",
              "      background-color: #E8F0FE;\n",
              "      border: none;\n",
              "      border-radius: 50%;\n",
              "      cursor: pointer;\n",
              "      display: none;\n",
              "      fill: #1967D2;\n",
              "      height: 32px;\n",
              "      padding: 0 0 0 0;\n",
              "      width: 32px;\n",
              "    }\n",
              "\n",
              "    .colab-df-convert:hover {\n",
              "      background-color: #E2EBFA;\n",
              "      box-shadow: 0px 1px 2px rgba(60, 64, 67, 0.3), 0px 1px 3px 1px rgba(60, 64, 67, 0.15);\n",
              "      fill: #174EA6;\n",
              "    }\n",
              "\n",
              "    [theme=dark] .colab-df-convert {\n",
              "      background-color: #3B4455;\n",
              "      fill: #D2E3FC;\n",
              "    }\n",
              "\n",
              "    [theme=dark] .colab-df-convert:hover {\n",
              "      background-color: #434B5C;\n",
              "      box-shadow: 0px 1px 3px 1px rgba(0, 0, 0, 0.15);\n",
              "      filter: drop-shadow(0px 1px 2px rgba(0, 0, 0, 0.3));\n",
              "      fill: #FFFFFF;\n",
              "    }\n",
              "  </style>\n",
              "\n",
              "      <script>\n",
              "        const buttonEl =\n",
              "          document.querySelector('#df-ef846159-c8c5-441a-b3fa-9829109ebb13 button.colab-df-convert');\n",
              "        buttonEl.style.display =\n",
              "          google.colab.kernel.accessAllowed ? 'block' : 'none';\n",
              "\n",
              "        async function convertToInteractive(key) {\n",
              "          const element = document.querySelector('#df-ef846159-c8c5-441a-b3fa-9829109ebb13');\n",
              "          const dataTable =\n",
              "            await google.colab.kernel.invokeFunction('convertToInteractive',\n",
              "                                                     [key], {});\n",
              "          if (!dataTable) return;\n",
              "\n",
              "          const docLinkHtml = 'Like what you see? Visit the ' +\n",
              "            '<a target=\"_blank\" href=https://colab.research.google.com/notebooks/data_table.ipynb>data table notebook</a>'\n",
              "            + ' to learn more about interactive tables.';\n",
              "          element.innerHTML = '';\n",
              "          dataTable['output_type'] = 'display_data';\n",
              "          await google.colab.output.renderOutput(dataTable, element);\n",
              "          const docLink = document.createElement('div');\n",
              "          docLink.innerHTML = docLinkHtml;\n",
              "          element.appendChild(docLink);\n",
              "        }\n",
              "      </script>\n",
              "    </div>\n",
              "  </div>\n",
              "  "
            ]
          },
          "metadata": {},
          "execution_count": 2
        }
      ],
      "source": [
        "df = pd.read_csv('project final data.csv')\n",
        "df.head(n = 5)"
      ]
    },
    {
      "cell_type": "code",
      "execution_count": 3,
      "metadata": {
        "colab": {
          "base_uri": "https://localhost:8080/",
          "height": 612
        },
        "id": "c5ZuhQ6l8JT1",
        "outputId": "177ea707-3eb0-4062-d5a3-b0b148d872d9"
      },
      "outputs": [
        {
          "output_type": "execute_result",
          "data": {
            "text/plain": [
              "                      MATCHUP  LOCATION  SHOT_NUMBER  PERIOD  GAME_CLOCK  \\\n",
              "0    MAR 04, 2015 - CHA @ BKN         0            1       1          69   \n",
              "1    MAR 04, 2015 - CHA @ BKN         0            2       1          14   \n",
              "2    MAR 04, 2015 - CHA @ BKN         0            3       1           0   \n",
              "3  DEC 13, 2014 - CHA vs. BKN         1            1       1           5   \n",
              "4  DEC 13, 2014 - CHA vs. BKN         1            5       4         478   \n",
              "\n",
              "   SHOT_CLOCK  DRIBBLES  TOUCH_TIME  SHOT_DIST  PTS_TYPE  ...    player_name  \\\n",
              "0        10.8         2         1.9        7.7         2  ...  brian roberts   \n",
              "1         3.4         0         0.8       28.2         3  ...  brian roberts   \n",
              "2         0.0         3         2.7       10.1         2  ...  brian roberts   \n",
              "3         1.9         0         2.0       26.0         3  ...  brian roberts   \n",
              "4        16.9         9         6.8       23.8         3  ...  brian roberts   \n",
              "\n",
              "   player_weight  player_height  defender_weight defender_height  prev_3P%  \\\n",
              "0      78.471416         185.42        99.790240          198.12      0.36   \n",
              "1      78.471416         185.42       102.511792          203.20      0.36   \n",
              "2      78.471416         185.42       102.511792          203.20      0.36   \n",
              "3      78.471416         185.42       102.511792          203.20      0.36   \n",
              "4      78.471416         185.42       102.511792          203.20      0.36   \n",
              "\n",
              "   prev_FT%  prev_FG%   GAME_DATE  back2back  \n",
              "0      0.94      0.42  2015-03-04        1.0  \n",
              "1      0.94      0.42  2015-03-04        1.0  \n",
              "2      0.94      0.42  2015-03-04        1.0  \n",
              "3      0.94      0.42  2014-12-13        1.0  \n",
              "4      0.94      0.42  2014-12-13        1.0  \n",
              "\n",
              "[5 rows x 24 columns]"
            ],
            "text/html": [
              "\n",
              "  <div id=\"df-b5b6705f-7c5b-455f-aa86-1953d2dfa707\">\n",
              "    <div class=\"colab-df-container\">\n",
              "      <div>\n",
              "<style scoped>\n",
              "    .dataframe tbody tr th:only-of-type {\n",
              "        vertical-align: middle;\n",
              "    }\n",
              "\n",
              "    .dataframe tbody tr th {\n",
              "        vertical-align: top;\n",
              "    }\n",
              "\n",
              "    .dataframe thead th {\n",
              "        text-align: right;\n",
              "    }\n",
              "</style>\n",
              "<table border=\"1\" class=\"dataframe\">\n",
              "  <thead>\n",
              "    <tr style=\"text-align: right;\">\n",
              "      <th></th>\n",
              "      <th>MATCHUP</th>\n",
              "      <th>LOCATION</th>\n",
              "      <th>SHOT_NUMBER</th>\n",
              "      <th>PERIOD</th>\n",
              "      <th>GAME_CLOCK</th>\n",
              "      <th>SHOT_CLOCK</th>\n",
              "      <th>DRIBBLES</th>\n",
              "      <th>TOUCH_TIME</th>\n",
              "      <th>SHOT_DIST</th>\n",
              "      <th>PTS_TYPE</th>\n",
              "      <th>...</th>\n",
              "      <th>player_name</th>\n",
              "      <th>player_weight</th>\n",
              "      <th>player_height</th>\n",
              "      <th>defender_weight</th>\n",
              "      <th>defender_height</th>\n",
              "      <th>prev_3P%</th>\n",
              "      <th>prev_FT%</th>\n",
              "      <th>prev_FG%</th>\n",
              "      <th>GAME_DATE</th>\n",
              "      <th>back2back</th>\n",
              "    </tr>\n",
              "  </thead>\n",
              "  <tbody>\n",
              "    <tr>\n",
              "      <th>0</th>\n",
              "      <td>MAR 04, 2015 - CHA @ BKN</td>\n",
              "      <td>0</td>\n",
              "      <td>1</td>\n",
              "      <td>1</td>\n",
              "      <td>69</td>\n",
              "      <td>10.8</td>\n",
              "      <td>2</td>\n",
              "      <td>1.9</td>\n",
              "      <td>7.7</td>\n",
              "      <td>2</td>\n",
              "      <td>...</td>\n",
              "      <td>brian roberts</td>\n",
              "      <td>78.471416</td>\n",
              "      <td>185.42</td>\n",
              "      <td>99.790240</td>\n",
              "      <td>198.12</td>\n",
              "      <td>0.36</td>\n",
              "      <td>0.94</td>\n",
              "      <td>0.42</td>\n",
              "      <td>2015-03-04</td>\n",
              "      <td>1.0</td>\n",
              "    </tr>\n",
              "    <tr>\n",
              "      <th>1</th>\n",
              "      <td>MAR 04, 2015 - CHA @ BKN</td>\n",
              "      <td>0</td>\n",
              "      <td>2</td>\n",
              "      <td>1</td>\n",
              "      <td>14</td>\n",
              "      <td>3.4</td>\n",
              "      <td>0</td>\n",
              "      <td>0.8</td>\n",
              "      <td>28.2</td>\n",
              "      <td>3</td>\n",
              "      <td>...</td>\n",
              "      <td>brian roberts</td>\n",
              "      <td>78.471416</td>\n",
              "      <td>185.42</td>\n",
              "      <td>102.511792</td>\n",
              "      <td>203.20</td>\n",
              "      <td>0.36</td>\n",
              "      <td>0.94</td>\n",
              "      <td>0.42</td>\n",
              "      <td>2015-03-04</td>\n",
              "      <td>1.0</td>\n",
              "    </tr>\n",
              "    <tr>\n",
              "      <th>2</th>\n",
              "      <td>MAR 04, 2015 - CHA @ BKN</td>\n",
              "      <td>0</td>\n",
              "      <td>3</td>\n",
              "      <td>1</td>\n",
              "      <td>0</td>\n",
              "      <td>0.0</td>\n",
              "      <td>3</td>\n",
              "      <td>2.7</td>\n",
              "      <td>10.1</td>\n",
              "      <td>2</td>\n",
              "      <td>...</td>\n",
              "      <td>brian roberts</td>\n",
              "      <td>78.471416</td>\n",
              "      <td>185.42</td>\n",
              "      <td>102.511792</td>\n",
              "      <td>203.20</td>\n",
              "      <td>0.36</td>\n",
              "      <td>0.94</td>\n",
              "      <td>0.42</td>\n",
              "      <td>2015-03-04</td>\n",
              "      <td>1.0</td>\n",
              "    </tr>\n",
              "    <tr>\n",
              "      <th>3</th>\n",
              "      <td>DEC 13, 2014 - CHA vs. BKN</td>\n",
              "      <td>1</td>\n",
              "      <td>1</td>\n",
              "      <td>1</td>\n",
              "      <td>5</td>\n",
              "      <td>1.9</td>\n",
              "      <td>0</td>\n",
              "      <td>2.0</td>\n",
              "      <td>26.0</td>\n",
              "      <td>3</td>\n",
              "      <td>...</td>\n",
              "      <td>brian roberts</td>\n",
              "      <td>78.471416</td>\n",
              "      <td>185.42</td>\n",
              "      <td>102.511792</td>\n",
              "      <td>203.20</td>\n",
              "      <td>0.36</td>\n",
              "      <td>0.94</td>\n",
              "      <td>0.42</td>\n",
              "      <td>2014-12-13</td>\n",
              "      <td>1.0</td>\n",
              "    </tr>\n",
              "    <tr>\n",
              "      <th>4</th>\n",
              "      <td>DEC 13, 2014 - CHA vs. BKN</td>\n",
              "      <td>1</td>\n",
              "      <td>5</td>\n",
              "      <td>4</td>\n",
              "      <td>478</td>\n",
              "      <td>16.9</td>\n",
              "      <td>9</td>\n",
              "      <td>6.8</td>\n",
              "      <td>23.8</td>\n",
              "      <td>3</td>\n",
              "      <td>...</td>\n",
              "      <td>brian roberts</td>\n",
              "      <td>78.471416</td>\n",
              "      <td>185.42</td>\n",
              "      <td>102.511792</td>\n",
              "      <td>203.20</td>\n",
              "      <td>0.36</td>\n",
              "      <td>0.94</td>\n",
              "      <td>0.42</td>\n",
              "      <td>2014-12-13</td>\n",
              "      <td>1.0</td>\n",
              "    </tr>\n",
              "  </tbody>\n",
              "</table>\n",
              "<p>5 rows × 24 columns</p>\n",
              "</div>\n",
              "      <button class=\"colab-df-convert\" onclick=\"convertToInteractive('df-b5b6705f-7c5b-455f-aa86-1953d2dfa707')\"\n",
              "              title=\"Convert this dataframe to an interactive table.\"\n",
              "              style=\"display:none;\">\n",
              "        \n",
              "  <svg xmlns=\"http://www.w3.org/2000/svg\" height=\"24px\"viewBox=\"0 0 24 24\"\n",
              "       width=\"24px\">\n",
              "    <path d=\"M0 0h24v24H0V0z\" fill=\"none\"/>\n",
              "    <path d=\"M18.56 5.44l.94 2.06.94-2.06 2.06-.94-2.06-.94-.94-2.06-.94 2.06-2.06.94zm-11 1L8.5 8.5l.94-2.06 2.06-.94-2.06-.94L8.5 2.5l-.94 2.06-2.06.94zm10 10l.94 2.06.94-2.06 2.06-.94-2.06-.94-.94-2.06-.94 2.06-2.06.94z\"/><path d=\"M17.41 7.96l-1.37-1.37c-.4-.4-.92-.59-1.43-.59-.52 0-1.04.2-1.43.59L10.3 9.45l-7.72 7.72c-.78.78-.78 2.05 0 2.83L4 21.41c.39.39.9.59 1.41.59.51 0 1.02-.2 1.41-.59l7.78-7.78 2.81-2.81c.8-.78.8-2.07 0-2.86zM5.41 20L4 18.59l7.72-7.72 1.47 1.35L5.41 20z\"/>\n",
              "  </svg>\n",
              "      </button>\n",
              "      \n",
              "  <style>\n",
              "    .colab-df-container {\n",
              "      display:flex;\n",
              "      flex-wrap:wrap;\n",
              "      gap: 12px;\n",
              "    }\n",
              "\n",
              "    .colab-df-convert {\n",
              "      background-color: #E8F0FE;\n",
              "      border: none;\n",
              "      border-radius: 50%;\n",
              "      cursor: pointer;\n",
              "      display: none;\n",
              "      fill: #1967D2;\n",
              "      height: 32px;\n",
              "      padding: 0 0 0 0;\n",
              "      width: 32px;\n",
              "    }\n",
              "\n",
              "    .colab-df-convert:hover {\n",
              "      background-color: #E2EBFA;\n",
              "      box-shadow: 0px 1px 2px rgba(60, 64, 67, 0.3), 0px 1px 3px 1px rgba(60, 64, 67, 0.15);\n",
              "      fill: #174EA6;\n",
              "    }\n",
              "\n",
              "    [theme=dark] .colab-df-convert {\n",
              "      background-color: #3B4455;\n",
              "      fill: #D2E3FC;\n",
              "    }\n",
              "\n",
              "    [theme=dark] .colab-df-convert:hover {\n",
              "      background-color: #434B5C;\n",
              "      box-shadow: 0px 1px 3px 1px rgba(0, 0, 0, 0.15);\n",
              "      filter: drop-shadow(0px 1px 2px rgba(0, 0, 0, 0.3));\n",
              "      fill: #FFFFFF;\n",
              "    }\n",
              "  </style>\n",
              "\n",
              "      <script>\n",
              "        const buttonEl =\n",
              "          document.querySelector('#df-b5b6705f-7c5b-455f-aa86-1953d2dfa707 button.colab-df-convert');\n",
              "        buttonEl.style.display =\n",
              "          google.colab.kernel.accessAllowed ? 'block' : 'none';\n",
              "\n",
              "        async function convertToInteractive(key) {\n",
              "          const element = document.querySelector('#df-b5b6705f-7c5b-455f-aa86-1953d2dfa707');\n",
              "          const dataTable =\n",
              "            await google.colab.kernel.invokeFunction('convertToInteractive',\n",
              "                                                     [key], {});\n",
              "          if (!dataTable) return;\n",
              "\n",
              "          const docLinkHtml = 'Like what you see? Visit the ' +\n",
              "            '<a target=\"_blank\" href=https://colab.research.google.com/notebooks/data_table.ipynb>data table notebook</a>'\n",
              "            + ' to learn more about interactive tables.';\n",
              "          element.innerHTML = '';\n",
              "          dataTable['output_type'] = 'display_data';\n",
              "          await google.colab.output.renderOutput(dataTable, element);\n",
              "          const docLink = document.createElement('div');\n",
              "          docLink.innerHTML = docLinkHtml;\n",
              "          element.appendChild(docLink);\n",
              "        }\n",
              "      </script>\n",
              "    </div>\n",
              "  </div>\n",
              "  "
            ]
          },
          "metadata": {},
          "execution_count": 3
        }
      ],
      "source": [
        "df.groupby(by=[\"MATCHUP\", \"player_name\"])\n",
        "df.head(n = 5)"
      ]
    },
    {
      "cell_type": "code",
      "execution_count": 4,
      "metadata": {
        "colab": {
          "base_uri": "https://localhost:8080/"
        },
        "id": "h3eUGnyGEbB_",
        "outputId": "8e31a196-a682-41c3-f167-704020412e9e"
      },
      "outputs": [
        {
          "output_type": "execute_result",
          "data": {
            "text/plain": [
              "['MATCHUP',\n",
              " 'LOCATION',\n",
              " 'SHOT_NUMBER',\n",
              " 'PERIOD',\n",
              " 'GAME_CLOCK',\n",
              " 'SHOT_CLOCK',\n",
              " 'DRIBBLES',\n",
              " 'TOUCH_TIME',\n",
              " 'SHOT_DIST',\n",
              " 'PTS_TYPE',\n",
              " 'CLOSEST_DEFENDER',\n",
              " 'CLOSE_DEF_DIST',\n",
              " 'FGM',\n",
              " 'PTS',\n",
              " 'player_name',\n",
              " 'player_weight',\n",
              " 'player_height',\n",
              " 'defender_weight',\n",
              " 'defender_height',\n",
              " 'prev_3P%',\n",
              " 'prev_FT%',\n",
              " 'prev_FG%',\n",
              " 'GAME_DATE',\n",
              " 'back2back']"
            ]
          },
          "metadata": {},
          "execution_count": 4
        }
      ],
      "source": [
        "list(df.columns)"
      ]
    },
    {
      "cell_type": "code",
      "execution_count": 5,
      "metadata": {
        "colab": {
          "base_uri": "https://localhost:8080/",
          "height": 612
        },
        "id": "WFI7U3CxArnc",
        "outputId": "bfd892ea-b8d0-4e7f-e1ab-217a0ba6c032"
      },
      "outputs": [
        {
          "output_type": "execute_result",
          "data": {
            "text/plain": [
              "                      MATCHUP  LOCATION  SHOT_NUMBER  PERIOD  GAME_CLOCK  \\\n",
              "0    MAR 04, 2015 - CHA @ BKN         0            1       1          69   \n",
              "1    MAR 04, 2015 - CHA @ BKN         0            2       1          14   \n",
              "2    MAR 04, 2015 - CHA @ BKN         0            3       1           0   \n",
              "3  DEC 13, 2014 - CHA vs. BKN         1            1       1           5   \n",
              "4  DEC 13, 2014 - CHA vs. BKN         1            5       4         478   \n",
              "\n",
              "   SHOT_CLOCK  DRIBBLES  TOUCH_TIME  SHOT_DIST  PTS_TYPE  ... player_weight  \\\n",
              "0        10.8         2         1.9        7.7         2  ...     78.471416   \n",
              "1         3.4         0         0.8       28.2         3  ...     78.471416   \n",
              "2         0.0         3         2.7       10.1         2  ...     78.471416   \n",
              "3         1.9         0         2.0       26.0         3  ...     78.471416   \n",
              "4        16.9         9         6.8       23.8         3  ...     78.471416   \n",
              "\n",
              "   player_height  defender_weight  defender_height prev_3P%  prev_FT%  \\\n",
              "0         185.42        99.790240           198.12     0.36      0.94   \n",
              "1         185.42       102.511792           203.20     0.36      0.94   \n",
              "2         185.42       102.511792           203.20     0.36      0.94   \n",
              "3         185.42       102.511792           203.20     0.36      0.94   \n",
              "4         185.42       102.511792           203.20     0.36      0.94   \n",
              "\n",
              "   prev_FG%   GAME_DATE  back2back  Prev_FGM  \n",
              "0      0.42  2015-03-04        1.0       NaN  \n",
              "1      0.42  2015-03-04        1.0       1.0  \n",
              "2      0.42  2015-03-04        1.0       0.0  \n",
              "3      0.42  2014-12-13        1.0       NaN  \n",
              "4      0.42  2014-12-13        1.0       1.0  \n",
              "\n",
              "[5 rows x 25 columns]"
            ],
            "text/html": [
              "\n",
              "  <div id=\"df-c694ac8d-1787-4630-ae32-ba61bf180f25\">\n",
              "    <div class=\"colab-df-container\">\n",
              "      <div>\n",
              "<style scoped>\n",
              "    .dataframe tbody tr th:only-of-type {\n",
              "        vertical-align: middle;\n",
              "    }\n",
              "\n",
              "    .dataframe tbody tr th {\n",
              "        vertical-align: top;\n",
              "    }\n",
              "\n",
              "    .dataframe thead th {\n",
              "        text-align: right;\n",
              "    }\n",
              "</style>\n",
              "<table border=\"1\" class=\"dataframe\">\n",
              "  <thead>\n",
              "    <tr style=\"text-align: right;\">\n",
              "      <th></th>\n",
              "      <th>MATCHUP</th>\n",
              "      <th>LOCATION</th>\n",
              "      <th>SHOT_NUMBER</th>\n",
              "      <th>PERIOD</th>\n",
              "      <th>GAME_CLOCK</th>\n",
              "      <th>SHOT_CLOCK</th>\n",
              "      <th>DRIBBLES</th>\n",
              "      <th>TOUCH_TIME</th>\n",
              "      <th>SHOT_DIST</th>\n",
              "      <th>PTS_TYPE</th>\n",
              "      <th>...</th>\n",
              "      <th>player_weight</th>\n",
              "      <th>player_height</th>\n",
              "      <th>defender_weight</th>\n",
              "      <th>defender_height</th>\n",
              "      <th>prev_3P%</th>\n",
              "      <th>prev_FT%</th>\n",
              "      <th>prev_FG%</th>\n",
              "      <th>GAME_DATE</th>\n",
              "      <th>back2back</th>\n",
              "      <th>Prev_FGM</th>\n",
              "    </tr>\n",
              "  </thead>\n",
              "  <tbody>\n",
              "    <tr>\n",
              "      <th>0</th>\n",
              "      <td>MAR 04, 2015 - CHA @ BKN</td>\n",
              "      <td>0</td>\n",
              "      <td>1</td>\n",
              "      <td>1</td>\n",
              "      <td>69</td>\n",
              "      <td>10.8</td>\n",
              "      <td>2</td>\n",
              "      <td>1.9</td>\n",
              "      <td>7.7</td>\n",
              "      <td>2</td>\n",
              "      <td>...</td>\n",
              "      <td>78.471416</td>\n",
              "      <td>185.42</td>\n",
              "      <td>99.790240</td>\n",
              "      <td>198.12</td>\n",
              "      <td>0.36</td>\n",
              "      <td>0.94</td>\n",
              "      <td>0.42</td>\n",
              "      <td>2015-03-04</td>\n",
              "      <td>1.0</td>\n",
              "      <td>NaN</td>\n",
              "    </tr>\n",
              "    <tr>\n",
              "      <th>1</th>\n",
              "      <td>MAR 04, 2015 - CHA @ BKN</td>\n",
              "      <td>0</td>\n",
              "      <td>2</td>\n",
              "      <td>1</td>\n",
              "      <td>14</td>\n",
              "      <td>3.4</td>\n",
              "      <td>0</td>\n",
              "      <td>0.8</td>\n",
              "      <td>28.2</td>\n",
              "      <td>3</td>\n",
              "      <td>...</td>\n",
              "      <td>78.471416</td>\n",
              "      <td>185.42</td>\n",
              "      <td>102.511792</td>\n",
              "      <td>203.20</td>\n",
              "      <td>0.36</td>\n",
              "      <td>0.94</td>\n",
              "      <td>0.42</td>\n",
              "      <td>2015-03-04</td>\n",
              "      <td>1.0</td>\n",
              "      <td>1.0</td>\n",
              "    </tr>\n",
              "    <tr>\n",
              "      <th>2</th>\n",
              "      <td>MAR 04, 2015 - CHA @ BKN</td>\n",
              "      <td>0</td>\n",
              "      <td>3</td>\n",
              "      <td>1</td>\n",
              "      <td>0</td>\n",
              "      <td>0.0</td>\n",
              "      <td>3</td>\n",
              "      <td>2.7</td>\n",
              "      <td>10.1</td>\n",
              "      <td>2</td>\n",
              "      <td>...</td>\n",
              "      <td>78.471416</td>\n",
              "      <td>185.42</td>\n",
              "      <td>102.511792</td>\n",
              "      <td>203.20</td>\n",
              "      <td>0.36</td>\n",
              "      <td>0.94</td>\n",
              "      <td>0.42</td>\n",
              "      <td>2015-03-04</td>\n",
              "      <td>1.0</td>\n",
              "      <td>0.0</td>\n",
              "    </tr>\n",
              "    <tr>\n",
              "      <th>3</th>\n",
              "      <td>DEC 13, 2014 - CHA vs. BKN</td>\n",
              "      <td>1</td>\n",
              "      <td>1</td>\n",
              "      <td>1</td>\n",
              "      <td>5</td>\n",
              "      <td>1.9</td>\n",
              "      <td>0</td>\n",
              "      <td>2.0</td>\n",
              "      <td>26.0</td>\n",
              "      <td>3</td>\n",
              "      <td>...</td>\n",
              "      <td>78.471416</td>\n",
              "      <td>185.42</td>\n",
              "      <td>102.511792</td>\n",
              "      <td>203.20</td>\n",
              "      <td>0.36</td>\n",
              "      <td>0.94</td>\n",
              "      <td>0.42</td>\n",
              "      <td>2014-12-13</td>\n",
              "      <td>1.0</td>\n",
              "      <td>NaN</td>\n",
              "    </tr>\n",
              "    <tr>\n",
              "      <th>4</th>\n",
              "      <td>DEC 13, 2014 - CHA vs. BKN</td>\n",
              "      <td>1</td>\n",
              "      <td>5</td>\n",
              "      <td>4</td>\n",
              "      <td>478</td>\n",
              "      <td>16.9</td>\n",
              "      <td>9</td>\n",
              "      <td>6.8</td>\n",
              "      <td>23.8</td>\n",
              "      <td>3</td>\n",
              "      <td>...</td>\n",
              "      <td>78.471416</td>\n",
              "      <td>185.42</td>\n",
              "      <td>102.511792</td>\n",
              "      <td>203.20</td>\n",
              "      <td>0.36</td>\n",
              "      <td>0.94</td>\n",
              "      <td>0.42</td>\n",
              "      <td>2014-12-13</td>\n",
              "      <td>1.0</td>\n",
              "      <td>1.0</td>\n",
              "    </tr>\n",
              "  </tbody>\n",
              "</table>\n",
              "<p>5 rows × 25 columns</p>\n",
              "</div>\n",
              "      <button class=\"colab-df-convert\" onclick=\"convertToInteractive('df-c694ac8d-1787-4630-ae32-ba61bf180f25')\"\n",
              "              title=\"Convert this dataframe to an interactive table.\"\n",
              "              style=\"display:none;\">\n",
              "        \n",
              "  <svg xmlns=\"http://www.w3.org/2000/svg\" height=\"24px\"viewBox=\"0 0 24 24\"\n",
              "       width=\"24px\">\n",
              "    <path d=\"M0 0h24v24H0V0z\" fill=\"none\"/>\n",
              "    <path d=\"M18.56 5.44l.94 2.06.94-2.06 2.06-.94-2.06-.94-.94-2.06-.94 2.06-2.06.94zm-11 1L8.5 8.5l.94-2.06 2.06-.94-2.06-.94L8.5 2.5l-.94 2.06-2.06.94zm10 10l.94 2.06.94-2.06 2.06-.94-2.06-.94-.94-2.06-.94 2.06-2.06.94z\"/><path d=\"M17.41 7.96l-1.37-1.37c-.4-.4-.92-.59-1.43-.59-.52 0-1.04.2-1.43.59L10.3 9.45l-7.72 7.72c-.78.78-.78 2.05 0 2.83L4 21.41c.39.39.9.59 1.41.59.51 0 1.02-.2 1.41-.59l7.78-7.78 2.81-2.81c.8-.78.8-2.07 0-2.86zM5.41 20L4 18.59l7.72-7.72 1.47 1.35L5.41 20z\"/>\n",
              "  </svg>\n",
              "      </button>\n",
              "      \n",
              "  <style>\n",
              "    .colab-df-container {\n",
              "      display:flex;\n",
              "      flex-wrap:wrap;\n",
              "      gap: 12px;\n",
              "    }\n",
              "\n",
              "    .colab-df-convert {\n",
              "      background-color: #E8F0FE;\n",
              "      border: none;\n",
              "      border-radius: 50%;\n",
              "      cursor: pointer;\n",
              "      display: none;\n",
              "      fill: #1967D2;\n",
              "      height: 32px;\n",
              "      padding: 0 0 0 0;\n",
              "      width: 32px;\n",
              "    }\n",
              "\n",
              "    .colab-df-convert:hover {\n",
              "      background-color: #E2EBFA;\n",
              "      box-shadow: 0px 1px 2px rgba(60, 64, 67, 0.3), 0px 1px 3px 1px rgba(60, 64, 67, 0.15);\n",
              "      fill: #174EA6;\n",
              "    }\n",
              "\n",
              "    [theme=dark] .colab-df-convert {\n",
              "      background-color: #3B4455;\n",
              "      fill: #D2E3FC;\n",
              "    }\n",
              "\n",
              "    [theme=dark] .colab-df-convert:hover {\n",
              "      background-color: #434B5C;\n",
              "      box-shadow: 0px 1px 3px 1px rgba(0, 0, 0, 0.15);\n",
              "      filter: drop-shadow(0px 1px 2px rgba(0, 0, 0, 0.3));\n",
              "      fill: #FFFFFF;\n",
              "    }\n",
              "  </style>\n",
              "\n",
              "      <script>\n",
              "        const buttonEl =\n",
              "          document.querySelector('#df-c694ac8d-1787-4630-ae32-ba61bf180f25 button.colab-df-convert');\n",
              "        buttonEl.style.display =\n",
              "          google.colab.kernel.accessAllowed ? 'block' : 'none';\n",
              "\n",
              "        async function convertToInteractive(key) {\n",
              "          const element = document.querySelector('#df-c694ac8d-1787-4630-ae32-ba61bf180f25');\n",
              "          const dataTable =\n",
              "            await google.colab.kernel.invokeFunction('convertToInteractive',\n",
              "                                                     [key], {});\n",
              "          if (!dataTable) return;\n",
              "\n",
              "          const docLinkHtml = 'Like what you see? Visit the ' +\n",
              "            '<a target=\"_blank\" href=https://colab.research.google.com/notebooks/data_table.ipynb>data table notebook</a>'\n",
              "            + ' to learn more about interactive tables.';\n",
              "          element.innerHTML = '';\n",
              "          dataTable['output_type'] = 'display_data';\n",
              "          await google.colab.output.renderOutput(dataTable, element);\n",
              "          const docLink = document.createElement('div');\n",
              "          docLink.innerHTML = docLinkHtml;\n",
              "          element.appendChild(docLink);\n",
              "        }\n",
              "      </script>\n",
              "    </div>\n",
              "  </div>\n",
              "  "
            ]
          },
          "metadata": {},
          "execution_count": 5
        }
      ],
      "source": [
        "Prev_FGM = []\n",
        "for index, row in df.iterrows():\n",
        "  if index == 0:\n",
        "    Prev_FGM.append(None)\n",
        "    continue\n",
        "  if df.iloc[index-1]['MATCHUP'] == row['MATCHUP'] and df.iloc[index-1]['player_name'] == row['player_name']:\n",
        "    Prev_FGM.append(df.iloc[index-1]['FGM'])\n",
        "  else:\n",
        "    Prev_FGM.append(None)\n",
        "df['Prev_FGM'] = Prev_FGM\n",
        "df.head(n = 5)"
      ]
    },
    {
      "cell_type": "code",
      "execution_count": 6,
      "metadata": {
        "colab": {
          "base_uri": "https://localhost:8080/"
        },
        "id": "vMuJAFAkRcQE",
        "outputId": "1706b8f5-73dc-4ce2-e43c-e3a1d773f2af"
      },
      "outputs": [
        {
          "output_type": "stream",
          "name": "stdout",
          "text": [
            "MATCHUP             JAN 05, 2015 - NYK @ MEM\n",
            "LOCATION                                   0\n",
            "SHOT_NUMBER                                4\n",
            "PERIOD                                     3\n",
            "GAME_CLOCK                               705\n",
            "SHOT_CLOCK                              10.0\n",
            "DRIBBLES                                   2\n",
            "TOUCH_TIME                               3.4\n",
            "SHOT_DIST                                4.2\n",
            "PTS_TYPE                                   2\n",
            "CLOSEST_DEFENDER              jarnell stokes\n",
            "CLOSE_DEF_DIST                           0.4\n",
            "FGM                                        1\n",
            "PTS                                        2\n",
            "player_name                     cole aldrich\n",
            "player_weight                     114.758776\n",
            "player_height                         210.82\n",
            "defender_weight                    115.66596\n",
            "defender_height                       205.74\n",
            "prev_3P%                                 0.0\n",
            "prev_FT%                               0.867\n",
            "prev_FG%                               0.541\n",
            "GAME_DATE                         2015-01-05\n",
            "back2back                                1.0\n",
            "Prev_FGM                                 NaN\n",
            "Name: 102691, dtype: object\n"
          ]
        },
        {
          "output_type": "execute_result",
          "data": {
            "text/plain": [
              "(102692, 25)"
            ]
          },
          "metadata": {},
          "execution_count": 6
        }
      ],
      "source": [
        "print(df.iloc[-1])\n",
        "df.shape"
      ]
    },
    {
      "cell_type": "code",
      "execution_count": 7,
      "metadata": {
        "id": "8OBja03RRTwF"
      },
      "outputs": [],
      "source": [
        "df = df[df['Prev_FGM'].notna()]"
      ]
    },
    {
      "cell_type": "code",
      "execution_count": 8,
      "metadata": {
        "colab": {
          "base_uri": "https://localhost:8080/"
        },
        "id": "TifQZwRDRuNg",
        "outputId": "392b1a9e-e475-4262-dbac-4754003cb817"
      },
      "outputs": [
        {
          "output_type": "execute_result",
          "data": {
            "text/plain": [
              "(59552, 25)"
            ]
          },
          "metadata": {},
          "execution_count": 8
        }
      ],
      "source": [
        "df.shape"
      ]
    },
    {
      "cell_type": "code",
      "execution_count": 9,
      "metadata": {
        "colab": {
          "base_uri": "https://localhost:8080/"
        },
        "id": "llWK_g1aNS63",
        "outputId": "79b5a9d2-7125-4dd9-f4b7-4552f8a16709"
      },
      "outputs": [
        {
          "output_type": "execute_result",
          "data": {
            "text/plain": [
              "LOCATION           0.003869\n",
              "SHOT_NUMBER       -0.018129\n",
              "PERIOD            -0.019566\n",
              "GAME_CLOCK         0.013559\n",
              "SHOT_CLOCK         0.018683\n",
              "DRIBBLES          -0.035922\n",
              "TOUCH_TIME        -0.046570\n",
              "SHOT_DIST         -0.181106\n",
              "PTS_TYPE          -0.113880\n",
              "CLOSE_DEF_DIST     0.003930\n",
              "FGM                1.000000\n",
              "PTS                0.970698\n",
              "player_weight      0.050938\n",
              "player_height      0.046467\n",
              "defender_weight    0.025027\n",
              "defender_height    0.023844\n",
              "prev_3P%          -0.034715\n",
              "prev_FT%          -0.034603\n",
              "prev_FG%           0.064674\n",
              "back2back          0.000589\n",
              "Prev_FGM          -0.002032\n",
              "Name: FGM, dtype: float64"
            ]
          },
          "metadata": {},
          "execution_count": 9
        }
      ],
      "source": [
        "corr = df.corr()\n",
        "corr['FGM']"
      ]
    },
    {
      "cell_type": "code",
      "execution_count": 10,
      "metadata": {
        "colab": {
          "base_uri": "https://localhost:8080/",
          "height": 373
        },
        "id": "nlMSLCGbPIg0",
        "outputId": "35179d27-d3a2-448d-f855-4adc3483afca"
      },
      "outputs": [
        {
          "output_type": "execute_result",
          "data": {
            "text/plain": [
              "[Text(0.5, 1.0, 'Correlations Heat Map')]"
            ]
          },
          "metadata": {},
          "execution_count": 10
        },
        {
          "output_type": "display_data",
          "data": {
            "text/plain": [
              "<Figure size 432x288 with 2 Axes>"
            ],
            "image/png": "[encoded data removed]"
          },
          "metadata": {
            "needs_background": "light"
          }
        }
      ],
      "source": [
        "sns.heatmap(corr, \n",
        "        xticklabels=corr.columns,\n",
        "        yticklabels=corr.columns).set(title='Correlations Heat Map')\n"
      ]
    },
    {
      "cell_type": "code",
      "source": [
        "df.shape"
      ],
      "metadata": {
        "colab": {
          "base_uri": "https://localhost:8080/"
        },
        "id": "IkowITNit2gE",
        "outputId": "00300487-a34e-4955-d58e-3c23218e4cba"
      },
      "execution_count": 11,
      "outputs": [
        {
          "output_type": "execute_result",
          "data": {
            "text/plain": [
              "(59552, 25)"
            ]
          },
          "metadata": {},
          "execution_count": 11
        }
      ]
    },
    {
      "cell_type": "code",
      "source": [
        "df2 = pd.read_csv('project final data.csv')\n",
        "dfg = df2.groupby(by=[\"MATCHUP\", \"player_name\"])\n",
        "print(dfg.ngroups)\n",
        "dfg = df2.groupby(by=[\"MATCHUP\"])\n",
        "print(dfg.ngroups)\n",
        "dfg = df2.groupby(by=[\"player_name\"])\n",
        "print(dfg.ngroups)\n"
      ],
      "metadata": {
        "colab": {
          "base_uri": "https://localhost:8080/"
        },
        "id": "Fl03C3nqUy6o",
        "outputId": "c0c3ec17-b467-43cb-ee83-b7dc16bd49a9"
      },
      "execution_count": 12,
      "outputs": [
        {
          "output_type": "stream",
          "name": "stdout",
          "text": [
            "11290\n",
            "1808\n",
            "219\n"
          ]
        }
      ]
    },
    {
      "cell_type": "code",
      "source": [
        "print(round(df[df['Prev_FGM'] == 1].shape[0]/df.shape[0]*100,2))\n",
        "print(round(df[df['Prev_FGM'] == 0].shape[0]/df.shape[0]*100,2))"
      ],
      "metadata": {
        "colab": {
          "base_uri": "https://localhost:8080/"
        },
        "id": "b-OmfrT84m-k",
        "outputId": "ffe403af-5813-4226-f01f-b49cf6146b9b"
      },
      "execution_count": 13,
      "outputs": [
        {
          "output_type": "stream",
          "name": "stdout",
          "text": [
            "45.06\n",
            "54.94\n"
          ]
        }
      ]
    },
    {
      "cell_type": "markdown",
      "source": [
        "## Bootstrap"
      ],
      "metadata": {
        "id": "w0hXbvWoEI_y"
      }
    },
    {
      "cell_type": "code",
      "source": [
        "def BS_sample(df, n):\n",
        "  return df.iloc[np.random.randint(n, size=n)]"
      ],
      "metadata": {
        "id": "K3ZtLns7ENK9"
      },
      "execution_count": 14,
      "outputs": []
    },
    {
      "cell_type": "markdown",
      "metadata": {
        "id": "njZldFP6TRp9"
      },
      "source": [
        "## Models"
      ]
    },
    {
      "cell_type": "markdown",
      "metadata": {
        "id": "84tMiwltTUYT"
      },
      "source": [
        "### IPW"
      ]
    },
    {
      "cell_type": "code",
      "execution_count": 15,
      "metadata": {
        "id": "5jqeP2nVSnI7"
      },
      "outputs": [],
      "source": [
        "def calc_propensity(x, t, max_iter=100):\n",
        "    log_reg = LogisticRegression(max_iter=max_iter).fit(x, t)\n",
        "    return log_reg.predict_proba(x)[:,1]"
      ]
    },
    {
      "cell_type": "code",
      "source": [
        "def ipw_calc_new(propensity, t, y):\n",
        "    val1, val2, val3, val4 = 0,0,0,0\n",
        "    t = t.to_numpy()\n",
        "    y = y.to_numpy()\n",
        "    # val1 = \n",
        "    for i in range(len(propensity)):\n",
        "        val1 += t[i]*y[i]/propensity[i]\n",
        "        val2 += t[i]/propensity[i]\n",
        "        val3 += (1-t[i])*y[i]/(1-propensity[i])\n",
        "        val4 += (1-t[i])/(1-propensity[i])\n",
        "    ATE = val1/val2-val3/val4\n",
        "    return ATE\n",
        "  \n",
        "def ipw_calc(propensity, t, y):\n",
        "    t = t.to_numpy()\n",
        "    y = y.to_numpy()\n",
        "    val1 = np.sum(t*y/propensity)\n",
        "    val2 = np.sum(t/propensity)\n",
        "    val3 = np.sum((1-t)*y/(1-propensity))\n",
        "    val4 = np.sum((1-t)/(1-propensity))\n",
        "    ATE = val1/val2-val3/val4\n",
        "    return ATE"
      ],
      "metadata": {
        "id": "wbTxpRbu_HiL"
      },
      "execution_count": 16,
      "outputs": []
    },
    {
      "cell_type": "markdown",
      "metadata": {
        "id": "7YXgr5UZTaSO"
      },
      "source": [
        "### S-Learner"
      ]
    },
    {
      "cell_type": "code",
      "source": [
        "def slearner_calc_new(model, x, t, y):\n",
        "  \n",
        "    x[\"T\"] = t\n",
        "    model.fit(x.to_numpy(), y.to_numpy())\n",
        "    ATE_sum = 0\n",
        "    counter = 0\n",
        "    for i, row in x.iterrows():\n",
        "      pred_T1 = model.predict([row.to_numpy()])[0]\n",
        "      row2 = row.copy()\n",
        "      row2[\"T\"] = 0\n",
        "      pred_T0 = model.predict([row2.to_numpy()])[0]\n",
        "      ATE_sum += pred_T1 - pred_T0\n",
        "      counter += 1\n",
        "    ATE = ATE_sum/counter\n",
        "    return ATE\n",
        "\n",
        "def slearner_calc2(model, x, t, y):\n",
        "    x[\"T\"] = t\n",
        "    model.fit(x.to_numpy(), y.to_numpy())\n",
        "    def help(row):\n",
        "      pred_T1 = model.predict([row.to_numpy()])[0]\n",
        "      row2 = row.copy()\n",
        "      row2[\"T\"] = 0\n",
        "      pred_T0 = model.predict([row2.to_numpy()])[0]\n",
        "      return pred_T1 - pred_T0 \n",
        "    ITE = x.apply(help, axis=1)\n",
        "    ATE = np.mean(ITE)\n",
        "    return ATE"
      ],
      "metadata": {
        "id": "YVospzeK80c5"
      },
      "execution_count": 17,
      "outputs": []
    },
    {
      "cell_type": "markdown",
      "metadata": {
        "id": "iG1to1NuTsxN"
      },
      "source": [
        "### T-Learner"
      ]
    },
    {
      "cell_type": "code",
      "source": [
        "def tlearner_calc_new(models, x, t, y):\n",
        "    model1, model0 = models\n",
        "    x[\"T\"] = t\n",
        "    x[\"Y\"] = y\n",
        "    x1 = x[x[\"T\"]==1]\n",
        "    x0 = x[x[\"T\"]==0]\n",
        "    y1 = x1['Y']\n",
        "    y0 = x0['Y']\n",
        "    model1.fit(x1.drop(['T','Y'],axis=1).to_numpy(), y1.to_numpy())\n",
        "    model0.fit(x0.drop(['T','Y'],axis=1).to_numpy(), y0.to_numpy())\n",
        "    pred_T1 = x.drop(['T','Y'],axis=1).apply(lambda row: model1.predict([row.to_numpy()])[0], axis=1)\n",
        "    pred_T0 = x.drop(['T','Y'],axis=1).apply(lambda row: model0.predict([row.to_numpy()])[0], axis=1)\n",
        "    ITE = pred_T1 - pred_T0\n",
        "    return ITE.mean()   "
      ],
      "metadata": {
        "id": "lZDXFys79pgv"
      },
      "execution_count": 18,
      "outputs": []
    },
    {
      "cell_type": "markdown",
      "metadata": {
        "id": "QWKMtI9pTy2u"
      },
      "source": [
        "### Matching"
      ]
    },
    {
      "cell_type": "code",
      "source": [
        "from sklearn.neighbors import NearestNeighbors\n",
        "\n",
        "def matching_calc_new(x, t, y, n=1):\n",
        "    x = (x-x.min(axis=0))\\\n",
        "      /(x.max(axis=0)-x.min(axis=0)+0.0001)\n",
        "    x[\"T\"] = t\n",
        "    x[\"Y\"] = y\n",
        "    x1 = x[x[\"T\"] == 1]\n",
        "    y1 = x1['Y'].to_numpy()\n",
        "    x0 = x[x[\"T\"] == 0]\n",
        "    y0 = x0['Y'].to_numpy()\n",
        "    \n",
        "    knn0 = NearestNeighbors(n_neighbors=n).fit(x0.drop(columns=['Y','T']).to_numpy())\n",
        "    knn1 = NearestNeighbors(n_neighbors=n).fit(x1.drop(columns=['Y','T']).to_numpy())\n",
        "\n",
        "    ITE1 = list(x1.apply(lambda row: row['Y'] - y0[knn0.kneighbors([row.drop(['Y','T'])])[1][0]][0], axis=1))\n",
        "    ITE2 = list(x0.apply(lambda row: -row['Y'] + y1[knn1.kneighbors([row.drop(['Y','T'])])[1][0]][0], axis=1))\n",
        "    ITE = ITE1 + ITE2\n",
        "    return np.mean(ITE)"
      ],
      "metadata": {
        "id": "xNvDznaoAYTn"
      },
      "execution_count": 19,
      "outputs": []
    },
    {
      "cell_type": "markdown",
      "source": [
        "## Model Selection"
      ],
      "metadata": {
        "id": "0U5QjbOyn4mE"
      }
    },
    {
      "cell_type": "code",
      "source": [
        "k_fold = 3\n",
        "cross_val_set = df.head(df.shape[0] - df.shape[0]%k_fold)\n",
        "y = cross_val_set['FGM']\n",
        "t = cross_val_set['Prev_FGM']\n",
        "x = cross_val_set.drop(columns=[\"FGM\", \"Prev_FGM\", \"player_name\", \"CLOSEST_DEFENDER\", \"GAME_DATE\", \"MATCHUP\", \"PTS\"])\n",
        "x = pd.get_dummies(x)\n",
        "x[\"T\"] = t\n",
        "x[\"Y\"] = y\n",
        "x1 = x[x[\"T\"] == 1]\n",
        "y1 = x1['Y'].to_numpy()\n",
        "x0 = x[x[\"T\"] == 0]\n",
        "y0 = x0['Y'].to_numpy()"
      ],
      "metadata": {
        "id": "84oLb20nq-Jp"
      },
      "execution_count": null,
      "outputs": []
    },
    {
      "cell_type": "code",
      "source": [
        "from sklearn.model_selection import cross_val_score\n",
        "from sklearn.model_selection import cross_val_predict\n",
        "# cross validation\n",
        "models = []\n",
        "models.append((\"Logistic Regression\",LogisticRegression(max_iter=10000),'predict'))\n",
        "models.append((\"Decision Tree\",DecisionTreeClassifier(),'predict'))\n",
        "models.append((\"Gradient Boosting\",GradientBoostingClassifier(random_state=0),'predict'))\n",
        "models.append((\"Random Forest\",RandomForestClassifier(random_state=0),'predict'))\n",
        "models.append((\"Gaussian NB\",GaussianNB(),'predict'))\n",
        "\n",
        "S_results = []\n",
        "T1_results = []\n",
        "T0_results = []\n",
        "propensity_results = []\n",
        "names = []\n",
        "for name,model,method in models:\n",
        "    names.append(name)\n",
        "    S_prediction = cross_val_predict(model, x.drop([\"Y\"], axis=1), y, cv=3, method=method)\n",
        "    # S_prediction = S_prediction[:,1] if method == 'predict_proba' else S_prediction     \n",
        "    S_result = np.mean(S_prediction==y)\n",
        "    # S_result = cross_val_score(model, x.drop([\"Y\"], axis=1), y,  cv=3, scoring='neg_mean_squared_error')\n",
        "    S_results.append(S_result)\n",
        "    # T1_result = cross_val_score(model, x1.drop([\"Y\",\"T\"], axis=1), y1,  cv=3, scoring='neg_mean_squared_error')\n",
        "    T1_prediction = cross_val_predict(model, x1.drop([\"Y\",\"T\"], axis=1), y1, cv=3, method=method)\n",
        "    # T1_prediction = T1_prediction[:,1] if method == 'predict_proba' else T1_prediction     \n",
        "    T1_result = np.mean(T1_prediction==y1)\n",
        "    T1_results.append(T1_result)\n",
        "    # T0_result = cross_val_score(model, x0.drop([\"Y\",\"T\"], axis=1), y0,  cv=3, scoring='neg_mean_squared_error')\n",
        "    T0_prediction = cross_val_predict(model, x0.drop([\"Y\",\"T\"], axis=1), y0, cv=3, method=method)\n",
        "    # T0_prediction = T0_prediction[:,1] if method == 'predict_proba' else T0_prediction     \n",
        "    T0_result = np.mean(T0_prediction==y0)\n",
        "    T0_results.append(T0_result)\n",
        "    if name not in ['Logistic Regression', 'Gaussian NB']:\n",
        "        propensity_results.append('not measured')\n",
        "        continue\n",
        "    # propensity_result = cross_val_score(model, x.drop([\"Y\",\"T\"], axis=1), t,  cv=3, scoring='neg_mean_squared_error')\n",
        "    propensity_prediction = cross_val_predict(model, x.drop([\"Y\",\"T\"], axis=1), t, cv=3, method=method)\n",
        "    # propensity_prediction = propensity_prediction[:,1] if method == 'predict_proba' else propensity_prediction     \n",
        "    propensity_result = np.mean(propensity_prediction==t)\n",
        "    # S_result = cross_val_score(model, x.drop([\"Y\"], axis=1), y,  cv=3, scoring='neg_mean_squared_error')\n",
        "    propensity_results.append(propensity_result)\n",
        "\n",
        "for i in range(len(names)):\n",
        "    print(\"S model CV score \",names[i],S_results[i])\n",
        "for i in range(len(names)):\n",
        "    print(\"T1 model CV score \",names[i],T1_results[i])\n",
        "for i in range(len(names)):\n",
        "    print(\"T0 model CV score \", names[i],T0_results[i])\n",
        "for i in range(len(names)):\n",
        "    print(\"propensity model CV score \",names[i],propensity_results[i])"
      ],
      "metadata": {
        "id": "UQ6MQdywn9aw",
        "colab": {
          "base_uri": "https://localhost:8080/"
        },
        "outputId": "39992f80-50b8-415a-c494-3b1bc7d2f6d4"
      },
      "execution_count": null,
      "outputs": [
        {
          "output_type": "stream",
          "name": "stdout",
          "text": [
            "S model CV score  Logistic Regression 0.6056255247691016\n",
            "S model CV score  Decision Tree 0.5348614609571788\n",
            "S model CV score  Gradient Boosting 0.6126448362720402\n",
            "S model CV score  Random Forest 0.6032241813602015\n",
            "S model CV score  Gaussian NB 0.5655079764903442\n",
            "T1 model CV score  Logistic Regression 0.6063203398673325\n",
            "T1 model CV score  Decision Tree 0.5321606916598345\n",
            "T1 model CV score  Gradient Boosting 0.6152269508832079\n",
            "T1 model CV score  Random Forest 0.6030409182380562\n",
            "T1 model CV score  Gaussian NB 0.5637996571513751\n",
            "T0 model CV score  Logistic Regression 0.6052695928597628\n",
            "T0 model CV score  Decision Tree 0.5334087296735542\n",
            "T0 model CV score  Gradient Boosting 0.6164567795574031\n",
            "T0 model CV score  Random Forest 0.6036495904144761\n",
            "T0 model CV score  Gaussian NB 0.5682846313730285\n",
            "propensity model CV score  Logistic Regression 0.5496053736356004\n",
            "propensity model CV score  Decision Tree not measured\n",
            "propensity model CV score  Gradient Boosting not measured\n",
            "propensity model CV score  Random Forest not measured\n",
            "propensity model CV score  Gaussian NB 0.5392275398824518\n"
          ]
        }
      ]
    },
    {
      "cell_type": "markdown",
      "metadata": {
        "id": "xgayuFMIUZse"
      },
      "source": [
        "## Results"
      ]
    },
    {
      "cell_type": "code",
      "source": [
        "# df_new = df.head(10000).drop(columns=['MATCHUP', 'GAME_DATE'])\n",
        "df_new = df.copy()\n",
        "y = df_new['FGM']\n",
        "t = df_new['Prev_FGM']\n",
        "x = df_new.drop(columns=[\"FGM\", \"Prev_FGM\", \"player_name\", \"CLOSEST_DEFENDER\",\"PTS\", \"GAME_DATE\", \"MATCHUP\"])\n",
        "x = pd.get_dummies(x)\n",
        "x = (x-x.min(axis=0))\\\n",
        "      /(x.max(axis=0)-x.min(axis=0)+0.0001)\n",
        "x.shape"
      ],
      "metadata": {
        "colab": {
          "base_uri": "https://localhost:8080/"
        },
        "id": "h0BXx2lw27rd",
        "outputId": "bd20351a-e5b0-4e8c-ea4a-1765ee7743e5"
      },
      "execution_count": 62,
      "outputs": [
        {
          "output_type": "execute_result",
          "data": {
            "text/plain": [
              "(59552, 18)"
            ]
          },
          "metadata": {},
          "execution_count": 62
        }
      ]
    },
    {
      "cell_type": "code",
      "source": [
        "propensity_df = calc_propensity(x, t, max_iter=3000)\n",
        "propensity_df"
      ],
      "metadata": {
        "colab": {
          "base_uri": "https://localhost:8080/"
        },
        "id": "ZHg7VH3BxqFk",
        "outputId": "b3a69f97-5a23-46ec-ed37-0170a99a3b0b"
      },
      "execution_count": 63,
      "outputs": [
        {
          "output_type": "execute_result",
          "data": {
            "text/plain": [
              "array([0.43762202, 0.41999987, 0.43064595, ..., 0.48268661, 0.5039327 ,\n",
              "       0.49004484])"
            ]
          },
          "metadata": {},
          "execution_count": 63
        }
      ]
    },
    {
      "cell_type": "code",
      "source": [
        "ipw_val = ipw_calc(propensity_df, t, y)\n",
        "print(\"ATE calculated by IPW is\", ipw_val)"
      ],
      "metadata": {
        "colab": {
          "base_uri": "https://localhost:8080/"
        },
        "id": "k0X8e_jKzuWG",
        "outputId": "560d1f45-f8e1-4070-b3b6-eecdcc5ea8cb"
      },
      "execution_count": 64,
      "outputs": [
        {
          "output_type": "stream",
          "name": "stdout",
          "text": [
            "ATE calculated by IPW is 0.0014205301784644964\n"
          ]
        }
      ]
    },
    {
      "cell_type": "code",
      "source": [
        "model_slearner = GradientBoostingClassifier(random_state=0)\n",
        "slearner_val = slearner_calc2(model_slearner, x, t, y)\n",
        "print(\"ATE calculated by S-Learner is\", slearner_val)"
      ],
      "metadata": {
        "colab": {
          "base_uri": "https://localhost:8080/"
        },
        "id": "zxkCkfdp0KT3",
        "outputId": "d22c55f1-f11e-4b8d-c613-02ae214d2e48"
      },
      "execution_count": 65,
      "outputs": [
        {
          "output_type": "stream",
          "name": "stdout",
          "text": [
            "ATE calculated by S-Learner is 0.0\n"
          ]
        }
      ]
    },
    {
      "cell_type": "code",
      "source": [
        "models_tlearner = (GradientBoostingClassifier(random_state=0),GradientBoostingClassifier(random_state=0))\n",
        "tlearner_val = tlearner_calc_new(models_tlearner, x, t, y)\n",
        "print(\"ATE calculated by T-Learner is\", tlearner_val)"
      ],
      "metadata": {
        "colab": {
          "base_uri": "https://localhost:8080/"
        },
        "id": "fKMZmlS03oxU",
        "outputId": "3fd1a974-d9d8-49cc-9b3a-9aa28c3b23df"
      },
      "execution_count": 66,
      "outputs": [
        {
          "output_type": "stream",
          "name": "stdout",
          "text": [
            "ATE calculated by T-Learner is -0.022098334228909187\n"
          ]
        }
      ]
    },
    {
      "cell_type": "code",
      "source": [
        "matching_val = matching_calc_new(x, t, y)\n",
        "print(\"ATE calculated by matching is\", matching_val)"
      ],
      "metadata": {
        "colab": {
          "base_uri": "https://localhost:8080/"
        },
        "id": "0R7m15vl39Vu",
        "outputId": "0f24c013-f724-4bf6-be5a-debeafc7e98a"
      },
      "execution_count": 67,
      "outputs": [
        {
          "output_type": "stream",
          "name": "stdout",
          "text": [
            "ATE calculated by matching is -0.02646426652337453\n"
          ]
        }
      ]
    },
    {
      "cell_type": "code",
      "source": [
        "#Plot histogram of TRUE propensity scores\n",
        "treat_plt = plt.hist([p for (p,treatment) in zip(propensity_df, t) if treatment==1], fc=(0, 0, 1, 0.5),bins=20,label='Treated')\n",
        "cont_plt = plt.hist([p for (p,treatment) in zip(propensity_df, t) if treatment==0],fc=(1, 0, 0, 0.5),bins=20,label='Control')\n",
        "plt.legend();\n",
        "plt.xlabel('propensity score');\n",
        "plt.ylabel('number of units');\n",
        "plt.title('Histogram of propensity scores')"
      ],
      "metadata": {
        "colab": {
          "base_uri": "https://localhost:8080/",
          "height": 312
        },
        "id": "NukHf1dHl5FT",
        "outputId": "10ab6889-8eb1-4d1b-830a-e47fb2394d7b"
      },
      "execution_count": null,
      "outputs": [
        {
          "output_type": "execute_result",
          "data": {
            "text/plain": [
              "Text(0.5, 1.0, 'Histogram of propensity scores')"
            ]
          },
          "metadata": {},
          "execution_count": 51
        },
        {
          "output_type": "display_data",
          "data": {
            "text/plain": [
              "<Figure size 432x288 with 1 Axes>"
            ],
            "image/png": "[encoded data removed]"
          },
          "metadata": {
            "needs_background": "light"
          }
        }
      ]
    },
    {
      "cell_type": "code",
      "source": [
        "def calc_confidence_interval(model_results):\n",
        "  a = np.percentile(model_results, 2.5)\n",
        "  b = np.percentile(model_results, 97.5)\n",
        "  return a,b"
      ],
      "metadata": {
        "id": "EbV_zGPxi48D"
      },
      "execution_count": null,
      "outputs": []
    },
    {
      "cell_type": "code",
      "source": [
        "# Bootstrap\n",
        "prop_list = []\n",
        "ipw_list = []\n",
        "\n",
        "for i in range(100):\n",
        "  df_BS = BS_sample(df, 50000).reset_index(drop=True)\n",
        "  y1 = df_BS['FGM']\n",
        "  t1 = df_BS['Prev_FGM']\n",
        "  x1 = df_BS.drop(columns=[\"FGM\", \"Prev_FGM\", \"player_name\", \"CLOSEST_DEFENDER\", 'PTS', \"GAME_DATE\", \"MATCHUP\"])\n",
        "  x1 = pd.get_dummies(x1)\n",
        "  x1 = (x1-x1.min(axis=0))\\\n",
        "        /(x1.max(axis=0)-x1.min(axis=0)+0.0001)\n",
        "  \n",
        "  propensity_df = calc_propensity(x1, t1, max_iter=1000)\n",
        "  prop_list.append(propensity_df)\n",
        "\n",
        "  ipw_val1 = ipw_calc(propensity_df, t1, y1)\n",
        "  # print(\"ATE calculated by IPW for data1 is\", ipw_val1)\n",
        "  ipw_list.append(ipw_val1)\n",
        "\n",
        "a_ipw, b_ipw = calc_confidence_interval(ipw_list)\n",
        "print(round(a_ipw,3), round(b_ipw,3), abs(round(a_ipw,3) - round(b_ipw,3)))"
      ],
      "metadata": {
        "id": "hPHBCeHFFabD",
        "colab": {
          "base_uri": "https://localhost:8080/"
        },
        "outputId": "dcb396fe-a14c-489d-ec18-a67904096634"
      },
      "execution_count": null,
      "outputs": [
        {
          "output_type": "stream",
          "name": "stdout",
          "text": [
            "-0.01 0.008 0.018000000000000002\n"
          ]
        }
      ]
    },
    {
      "cell_type": "code",
      "source": [
        "# Bootstrap\n",
        "slearner_list = []\n",
        "\n",
        "for i in range(100):\n",
        "  df_BS = BS_sample(df, 50000).reset_index(drop=True)\n",
        "  y1 = df_BS['FGM']\n",
        "  t1 = df_BS['Prev_FGM']\n",
        "  x1 = df_BS.drop(columns=[\"FGM\", \"Prev_FGM\", \"player_name\", \"CLOSEST_DEFENDER\", 'PTS', \"GAME_DATE\", \"MATCHUP\"])\n",
        "  x1 = pd.get_dummies(x1)\n",
        "  x1 = (x1-x1.min(axis=0))\\\n",
        "        /(x1.max(axis=0)-x1.min(axis=0)+0.0001)\n",
        "\n",
        "  model_slearner1 = GradientBoostingClassifier(random_state=0)\n",
        "  slearner_val1 = slearner_calc2(model_slearner1, x1, t1, y1)\n",
        "  # print(\"ATE calculated by S-Learner for data1 is\", slearner_val1)\n",
        "  slearner_list.append(slearner_val1)\n",
        "\n",
        "a_slearner, b_slearner = calc_confidence_interval(slearner_list)\n",
        "print(round(a_slearner,3), round(b_slearner,3), abs(round(a_slearner,3) - round(b_slearner,3)))"
      ],
      "metadata": {
        "colab": {
          "base_uri": "https://localhost:8080/"
        },
        "outputId": "2aa980d3-5b9c-48f1-bd71-d4ae6c43fc59",
        "id": "wHAHjgLH-rcX"
      },
      "execution_count": null,
      "outputs": [
        {
          "output_type": "stream",
          "name": "stdout",
          "text": [
            "-0.002 0.001 0.003\n"
          ]
        }
      ]
    },
    {
      "cell_type": "code",
      "source": [
        "# Bootstrap\n",
        "tlearner_list = []\n",
        "\n",
        "for i in range(100):\n",
        "  df_BS = BS_sample(df, 50000).reset_index(drop=True)\n",
        "  y1 = df_BS['FGM']\n",
        "  t1 = df_BS['Prev_FGM']\n",
        "  x1 = df_BS.drop(columns=[\"FGM\", \"Prev_FGM\", \"player_name\", \"CLOSEST_DEFENDER\", 'PTS', \"GAME_DATE\", \"MATCHUP\"])\n",
        "  x1 = pd.get_dummies(x1)\n",
        "  x1 = (x1-x1.min(axis=0))\\\n",
        "        /(x1.max(axis=0)-x1.min(axis=0)+0.0001)\n",
        "\n",
        "  models_tlearner1 = (GradientBoostingClassifier(random_state=0),\n",
        "                     GradientBoostingClassifier(random_state=0))\n",
        "  tlearner_val1 = tlearner_calc_new(models_tlearner1, x1, t1, y1)\n",
        "  # print(\"ATE calculated by T-Learner for data1 is\", tlearner_val1)\n",
        "  tlearner_list.append(tlearner_val1)\n",
        "\n",
        "a_tlearner, b_tlearner = calc_confidence_interval(tlearner_list)\n",
        "print(round(a_tlearner,3), round(b_tlearner,3), abs(round(a_tlearner,3) - round(b_tlearner,3)))"
      ],
      "metadata": {
        "colab": {
          "base_uri": "https://localhost:8080/"
        },
        "outputId": "69d68b99-aaf1-4277-a87a-9d3b8654f1be",
        "id": "w5zdgabV-rlY"
      },
      "execution_count": null,
      "outputs": [
        {
          "output_type": "stream",
          "name": "stdout",
          "text": [
            "-0.039 0.007 0.046\n"
          ]
        }
      ]
    },
    {
      "cell_type": "code",
      "source": [
        "# Bootstrap\n",
        "matching_list = []\n",
        "\n",
        "for i in range(100):\n",
        "  # if i%10==0:\n",
        "  #     print(f\"{i+1}th iteration\")\n",
        "  df_BS = BS_sample(df, 10000).reset_index(drop=True)\n",
        "  y1 = df_BS['FGM']\n",
        "  t1 = df_BS['Prev_FGM']\n",
        "  x1 = df_BS.drop(columns=[\"FGM\", \"Prev_FGM\", \"player_name\", \"CLOSEST_DEFENDER\", 'PTS', \"GAME_DATE\", \"MATCHUP\"])\n",
        "  x1 = pd.get_dummies(x1)\n",
        "  x1 = (x1-x1.min(axis=0))\\\n",
        "        /(x1.max(axis=0)-x1.min(axis=0)+0.0001)\n",
        "        \n",
        "  matching_val1 = matching_calc_new(x1, t1, y1)\n",
        "  # print(\"ATE calculated by matching for data1 is\", matching_val1)\n",
        "  matching_list.append(matching_val1)\n",
        "\n",
        "a_matching, b_matching = calc_confidence_interval(matching_list)\n",
        "print(round(a_matching,3), round(b_matching,3), abs(round(a_matching,3) - round(b_matching,3)))"
      ],
      "metadata": {
        "colab": {
          "base_uri": "https://localhost:8080/"
        },
        "outputId": "72adcd21-c7c0-4ddb-f8aa-3deb77e22efe",
        "id": "L9pupbld-ryI"
      },
      "execution_count": null,
      "outputs": [
        {
          "output_type": "stream",
          "name": "stdout",
          "text": [
            "-0.042 -0.005 0.037000000000000005\n"
          ]
        }
      ]
    },
    {
      "cell_type": "code",
      "source": [
        "print(round(a_ipw,3), round(b_ipw,3), abs(round(a_ipw,3) - round(b_ipw,3)))\n",
        "print(round(a_slearner,3), round(b_slearner,3), abs(round(a_slearner,3) - round(b_slearner,3)))\n",
        "print(round(a_tlearner,3), round(b_tlearner,3), abs(round(a_tlearner,3) - round(b_tlearner,3)))\n",
        "print(round(a_matching,3), round(b_matching,3), abs(round(a_matching,3) - round(b_matching,3)))"
      ],
      "metadata": {
        "colab": {
          "base_uri": "https://localhost:8080/"
        },
        "id": "SSdz5a0MoCzr",
        "outputId": "c7c79c32-8578-423c-bacd-75a06890fdec"
      },
      "execution_count": null,
      "outputs": [
        {
          "output_type": "stream",
          "name": "stdout",
          "text": [
            "-0.01 0.008 0.018000000000000002\n",
            "-0.002 0.001 0.003\n",
            "-0.039 0.007 0.046\n",
            "-0.042 -0.005 0.037000000000000005\n"
          ]
        }
      ]
    },
    {
      "cell_type": "code",
      "source": [
        "print(ipw_list)\n",
        "print(slearner_list)\n",
        "print(tlearner_list)\n",
        "print(matching_list)"
      ],
      "metadata": {
        "colab": {
          "base_uri": "https://localhost:8080/"
        },
        "id": "wmOGr0EjHJGJ",
        "outputId": "195d58a7-6c3b-4c62-d5cf-7594d61a2ca4"
      },
      "execution_count": null,
      "outputs": [
        {
          "output_type": "stream",
          "name": "stdout",
          "text": [
            "[-0.005831933038109582, -0.008960211973434273, -0.00683501827881966, 0.006143264451626107, 0.00554633158901785, -0.0023237449621100748, -0.009559849102023898, 0.003072447675264822, -0.0028220523598390113, 0.0008908502936281204, 0.006823006609554649, 0.0005529038058449398, 0.003385565589843098, 0.003443518597613382, 8.320089905616834e-05, -0.0004873115142682849, 0.0035225039099108235, -0.005311695086630375, 0.0028647974001848597, 0.00047012828934067663, -0.0014374976923438587, 0.0024298364317958954, 0.001640669449854859, -0.0011560973852006162, -0.004851204522076269, 0.0027514677298703383, 0.0024018698214635648, -0.0010245994058215024, 0.007998628165086341, -0.001100685480408481, -0.0036543973234605676, -0.0028160949564883797, 0.0028891850480797787, -0.002741917818327555, -0.0021555222236730454, -0.0002252655982932228, 0.0012637709675156206, -0.0010567969553619827, 0.00480739908947353, -0.00201845175826465, 0.002203914463836998, 0.005336433102079208, 0.003816805014764335, 0.00036536234028222703, -0.0017834147860176786, 0.002828403510240718, -0.004234759308905767, 0.002227579610826369, 0.001447367372843733, 0.007187381278770055, -9.935224805873721e-05, 0.002833344950450123, -0.0025007986291684103, -0.002814409576622101, 0.007801525174158885, -0.0015509882498782046, 0.0011931333035417602, -0.007397193077539832, 0.002985156519102361, -0.008532927378433974, 0.00013232093092813146, -0.001271429091120102, 0.001478606818157313, 0.00557266935662265, -0.00970627101489313, -0.0025751015707957126, -0.0019514417020151664, -0.004167516694161322, -0.002523510420220698, 0.0020790354273283462, -0.01097593252756962, -0.008144441911885736, -0.0021220802059390698, 0.0049568681454121855, 0.0047233452189892056, -0.007576103237697418, -0.0004691150352934548, -0.0019996787011076766, 0.0034961749427476208, 0.0015973137437577112, 0.0014601801524230518, -0.0025117400587928995, 0.007016773785998243, -0.0029997377283509374, 0.0036657373011583227, 0.0014091958224086154, -0.004826485617410448, 0.0016748551799303235, 0.0001205917763070774, -0.004965766622622048, 0.0050952869870699025, 0.008292165061488832, -0.006312077506132885, -0.013190020427640392, 0.001205917551098834, -0.00015060107403358503, 0.003697100933823416, 0.0012003828533501681, -0.007656569283914838, -0.005019374484744543]\n",
            "[0.0, -0.00012, 0.0, -0.00076, 0.0006, -0.00082, 0.0, 0.0003, -0.00136, -0.00102, 0.0, 0.0, -0.0019, -0.00246, -0.00016, 0.0, -0.00082, -0.00146, 4e-05, -0.00072, -0.00034, -0.0006, 0.0, -0.00088, 0.0, -0.00024, -0.00038, 0.0, 0.0, -4e-05, 0.0, 0.0, -0.00228, -0.00014, 0.00102, 0.0, 6e-05, -0.00196, 0.0, 0.0, -0.00156, 0.0, 0.00074, -0.00098, -0.0017, -0.00136, -0.00256, -4e-05, -8e-05, 0.0024]\n",
            "[-0.01634, -0.04234, 0.0012, -0.02168, -0.02326, -0.0085, -0.01914, 0.00476, -0.00814, -0.02228, -0.00872, -0.01984, -0.00562, -0.0198, -0.03698, -0.00368, -0.04392, -0.027, -0.0248, -0.01942, -0.01804, -0.00168, -0.02094, -0.02676, -0.01166, -0.04044, -0.01838, -0.0338, -0.02064, 0.00088, -0.01758, -0.02412, 0.00104, -0.0122, 0.01686, -0.02028, -0.02164, -0.00686, -0.00224, -0.00464, -0.03512, -0.02068, -0.02126, -0.01866, -0.01638, -0.01492, 0.00452, -0.02316, -0.02364, -0.03064, -0.01436, -0.0222, -0.01988, -0.01414, -0.0214, -0.00996, -0.013, -0.0198, -0.0118, -0.00192, -0.01614, -0.0247, -0.02888, -0.02758, 0.00012, -0.01816, -0.02394, -0.01902, -0.01124, -0.00182, -0.0006, -0.01522, -0.02894, -0.01092, -0.01436, -0.01962, 0.00982, -0.035, -0.00476, -0.01302, -0.0209, 0.00234, -0.00026, -0.01654, -0.02002, 0.01104, -0.00512, -0.0213, -0.01354, -0.02748, -0.0087, -0.00064, -0.02142, -0.0021, -0.02252, -0.00138, -0.02956, -0.01454, -0.01306, -0.02056]\n",
            "[-0.0266, -0.0139, -0.0199, -0.0189, -0.024, -0.0471, -0.0199, -0.0067, -0.0226, -0.023, -0.018, -0.0178, -0.0354, -0.0248, -0.0396, -0.0066, -0.0421, -0.0253, -0.0184, -0.0018, -0.0158, -0.0254, -0.0215, -0.0195, -0.0361, -0.0264, -0.0338, -0.0327, -0.0173, -0.0281, -0.0249, -0.033, -0.0224, -0.0144, -0.012, -0.0302, -0.0182, -0.03, -0.0286, -0.0225, -0.0188, -0.0241, -0.0304, -0.0117, -0.0138, -0.0192, -0.0095, -0.0225, -0.0345, -0.0036, -0.0328, -0.0152, -0.0138, -0.0324, -0.0152, -0.0256, -0.0369, -0.0085, -0.0069, -0.0355, -0.0255, -0.0398, -0.0235, -0.0169, -0.0361, -0.0198, -0.0154, -0.0145, -0.0162, -0.0283, -0.015, -0.0415, -0.0192, -0.0217, -0.0144, -0.0277, -0.0339, -0.0228, -0.0418, -0.0301, -0.026, -0.0152, -0.0204, -0.013, -0.0312, -0.0266, -0.017, -0.0131, -0.0174, -0.018, -0.0287, -0.0105, -0.0315, -0.0253, -0.02, -0.0113, -0.0414, -0.0041, -0.0263, -0.0234]\n"
          ]
        }
      ]
    },
    {
      "cell_type": "code",
      "source": [
        "import matplotlib.pyplot as plt\n",
        "import statistics\n",
        "from math import sqrt\n",
        "\n",
        "def plot_confidence_interval(x, estimation, values, color='#2187bb', horizontal_line_width=0.25):\n",
        "    \n",
        "    left = x - horizontal_line_width / 2\n",
        "    bottom, top = calc_confidence_interval(values)\n",
        "    right = x + horizontal_line_width / 2\n",
        "    plt.plot([x, x], [top, bottom], color=color)\n",
        "    plt.plot([left, right], [top, top], color=color)\n",
        "    plt.plot([left, right], [bottom, bottom], color=color)\n",
        "    plt.plot(x, estimation, 'o', color='#f44336')\n",
        "\n",
        "def plot_confidence_interval3(x, estimation, values, z=1.96, color='#2187bb', horizontal_line_width=0.24):\n",
        "\n",
        "    mean = statistics.mean(values)\n",
        "    stdev = statistics.stdev(values)\n",
        "    confidence_interval = z * stdev / sqrt(len(values))\n",
        "\n",
        "    left = x - horizontal_line_width / 2\n",
        "    top = estimation - confidence_interval\n",
        "    right = x + horizontal_line_width / 2\n",
        "    bottom = estimation + confidence_interval\n",
        "\n",
        "    plt.plot([x, x], [top, bottom], color=color)\n",
        "    plt.plot([left, right], [top, top], color=color)\n",
        "    plt.plot([left, right], [bottom, bottom], color=color)\n",
        "    plt.plot(x, estimation, 'o', color='#f44336')\n",
        "\n",
        "plt.xticks([1, 2, 3, 4], ['IPW', 'S-Learner', 'T-Learner', 'Matching'])\n",
        "plt.title('\"Hot Hand\" Estimated ATE by Method')\n",
        "plot_confidence_interval(1, ipw_val, ipw_list)\n",
        "plot_confidence_interval(2, slearner_val, slearner_list)\n",
        "plot_confidence_interval(3, tlearner_val, tlearner_list)\n",
        "plot_confidence_interval(4, matching_val, matching_list)\n",
        "plt.xlabel('Method');\n",
        "plt.ylabel('ATE');\n",
        "plt.show()\n",
        "\n",
        "# plt.xticks([1, 2, 3, 4], ['IPW', 'S-Learner', 'T-Learner', 'Matching'])\n",
        "# plt.title('Confidence Interval')\n",
        "# plot_confidence_interval3(1, ipw_val, ipw_list)\n",
        "# plot_confidence_interval3(2, slearner_val, slearner_list)\n",
        "# plot_confidence_interval3(3, tlearner_val, tlearner_list)\n",
        "# plot_confidence_interval3(4, matching_val, matching_list)\n",
        "# plt.show()\n"
      ],
      "metadata": {
        "colab": {
          "base_uri": "https://localhost:8080/",
          "height": 295
        },
        "id": "AJgV-W-8G340",
        "outputId": "9c128a78-0dcf-40f8-fac5-c17a57d5b921"
      },
      "execution_count": null,
      "outputs": [
        {
          "output_type": "display_data",
          "data": {
            "text/plain": [
              "<Figure size 432x288 with 1 Axes>"
            ],
            "image/png": "[encoded data removed]"
          },
          "metadata": {
            "needs_background": "light"
          }
        }
      ]
    },
    {
      "cell_type": "markdown",
      "source": [
        "## Sensitivity Analysis\n",
        "We calculate tipping point for each ATE estimation with unmeasured confounding bias."
      ],
      "metadata": {
        "id": "rDxOJS8-i9x2"
      }
    },
    {
      "cell_type": "code",
      "source": [
        "df_new = df.copy()\n",
        "y = df_new['FGM']\n",
        "t = df_new['Prev_FGM']\n",
        "x = df_new.drop(columns=[\"FGM\", \"Prev_FGM\", \"player_name\", \"CLOSEST_DEFENDER\",\"PTS\", \"GAME_DATE\", \"MATCHUP\"])\n",
        "x = pd.get_dummies(x)\n",
        "x = (x-x.min(axis=0))\\\n",
        "      /(x.max(axis=0)-x.min(axis=0)+0.0001)\n",
        "x[\"T\"] = t\n",
        "x[\"Y\"] = y\n",
        "x1 = x[x[\"T\"] == 1]\n",
        "y1 = x1['Y'].to_numpy()\n",
        "x0 = x[x[\"T\"] == 0]\n",
        "y0 = x0['Y'].to_numpy()"
      ],
      "metadata": {
        "id": "q2rsA7Maj5t-"
      },
      "execution_count": 68,
      "outputs": []
    },
    {
      "cell_type": "code",
      "source": [
        "conditional_y1 = LogisticRegression(max_iter=3000).fit(x1.drop(columns=[\"Y\",\"T\"]), y1)\n",
        "conditional_y0 = LogisticRegression(max_iter=3000).fit(x0.drop(columns=[\"Y\",\"T\"]), y0)\n",
        "def stdev(model, x):\n",
        "    e_y_hat = model.predict_proba(x)[:,1]\n",
        "    var_y_hat = e_y_hat - e_y_hat**2\n",
        "    return np.sqrt(var_y_hat)"
      ],
      "metadata": {
        "id": "2GZtRL6Yj7zJ"
      },
      "execution_count": 69,
      "outputs": []
    },
    {
      "cell_type": "code",
      "source": [
        "calc_bias_1 = stdev(conditional_y1,x.drop(columns=[\"Y\",\"T\"])) * (1 - propensity_df)\n",
        "calc_bias_0 = stdev(conditional_y0,x.drop(columns=[\"Y\",\"T\"])) * propensity_df\n",
        "bias1 = calc_bias_1.mean()\n",
        "bias0 = calc_bias_0.mean()\n",
        "def calc_tipping_point(ATE):\n",
        "    tipping_point = -ATE / (bias1 + bias0)\n",
        "    return tipping_point"
      ],
      "metadata": {
        "id": "xDbXE3gml3vn"
      },
      "execution_count": 76,
      "outputs": []
    },
    {
      "cell_type": "code",
      "source": [
        "print(\"Tipping point calculated for IPW is\", calc_tipping_point(ipw_val))\n",
        "print(\"Tipping point calculated for S-learner is\", calc_tipping_point(slearner_val))\n",
        "print(\"Tipping point calculated for T-learner is\", calc_tipping_point(tlearner_val))\n",
        "print(\"Tipping point calculated for matching is\", calc_tipping_point(matching_val))"
      ],
      "metadata": {
        "colab": {
          "base_uri": "https://localhost:8080/"
        },
        "id": "-jh7yS5asZjQ",
        "outputId": "a807db4e-2796-45bc-f64b-d7bd5275be28"
      },
      "execution_count": 77,
      "outputs": [
        {
          "output_type": "stream",
          "name": "stdout",
          "text": [
            "Tipping point calculated for IPW is -0.0029341690543435027\n",
            "Tipping point calculated for S-learner is -0.0\n",
            "Tipping point calculated for T-learner is 0.04564510450393482\n",
            "Tipping point calculated for matching is 0.05466313426914992\n"
          ]
        }
      ]
    }
  ],
  "metadata": {
    "colab": {
      "name": "Casual_Infererence.ipynb",
      "provenance": [],
      "collapsed_sections": []
    },
    "kernelspec": {
      "display_name": "Python 3",
      "name": "python3"
    },
    "language_info": {
      "name": "python"
    }
  },
  "nbformat": 4,
  "nbformat_minor": 0
}